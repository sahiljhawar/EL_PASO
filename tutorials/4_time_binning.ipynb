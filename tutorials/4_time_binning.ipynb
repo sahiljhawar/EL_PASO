{
 "cells": [
  {
   "cell_type": "markdown",
   "id": "728a4768",
   "metadata": {},
   "source": [
    "# Tutorial: Time binning\n",
    "\n",
    "This tutorial will teach you how to time bin variables as an essential processing step.\n",
    "\n",
    "We will use the loaded variables from the cdf file for the tutorial."
   ]
  },
  {
   "cell_type": "code",
   "execution_count": null,
   "id": "2c26a19c",
   "metadata": {},
   "outputs": [],
   "source": [
    "import logging\n",
    "import sys\n",
    "from datetime import datetime, timezone\n",
    "\n",
    "from astropy import units as u\n",
    "\n",
    "import el_paso as ep\n",
    "\n",
    "logging.basicConfig(stream=sys.stdout, level=logging.DEBUG)\n",
    "\n",
    "extraction_infos = [\n",
    "    ep.ExtractionInfo(\n",
    "        result_key=\"Epoch\",\n",
    "        name_or_column=\"Epoch_Ele\",\n",
    "        unit=ep.units.cdf_epoch,\n",
    "    ),\n",
    "    ep.ExtractionInfo(\n",
    "        result_key=\"FEDU\",\n",
    "        name_or_column=\"FEDU\",\n",
    "        unit=(u.cm**2 * u.s * u.sr * u.keV) ** (-1),\n",
    "    ),\n",
    "    ep.ExtractionInfo(\n",
    "        result_key=\"xGEO\",\n",
    "        name_or_column=\"Position_Ele\",\n",
    "        unit=u.km,\n",
    "    ),\n",
    "]\n",
    "\n",
    "start_time = datetime(2017, 7, 30, tzinfo=timezone.utc)\n",
    "end_time = datetime(2017, 8, 1, 23, 59, 59, tzinfo=timezone.utc)\n",
    "\n",
    "file_name_stem = \"rbspa_rel04_ect-hope-pa-l3_YYYYMMDD_.{6}.cdf\"\n",
    "\n",
    "ep.download(\n",
    "    start_time,\n",
    "    end_time,\n",
    "    save_path=\".\",\n",
    "    download_url=\"https://spdf.gsfc.nasa.gov/pub/data/rbsp/rbspa/l3/ect/hope/pitchangle/rel04/YYYY/\",\n",
    "    file_name_stem=file_name_stem,\n",
    "    file_cadence=\"daily\",\n",
    "    method=\"request\",\n",
    "    skip_existing=True,\n",
    ")\n",
    "\n",
    "variables = ep.extract_variables_from_files(\n",
    "    start_time, end_time, \"daily\", data_path=\".\", file_name_stem=file_name_stem, extraction_infos=extraction_infos\n",
    ")\n",
    "variables"
   ]
  },
  {
   "cell_type": "markdown",
   "id": "6253847c",
   "metadata": {},
   "source": [
    "Time binning is one essential processing step, you probably want to use for most satellite missions. The function is part of the *processing* module, which holds functions you can use for processing your variables. The function *bin_by_time* changes the variables in place to reduce memory, because before time binning, data sizes can be quite big. A new time variable is created with the same cadence as provided as an input to the function.\n",
    "\n",
    "For every variable, which should be time-binned, you have to provide a corresponding time-bin-method. This dictionary is used as input in the time binning function.\n",
    "If you want to change the start- and end-time of the binning, you should truncate the variables first. This can be done by the *truncate()* method of variable class."
   ]
  },
  {
   "cell_type": "code",
   "execution_count": null,
   "id": "b53db118",
   "metadata": {},
   "outputs": [],
   "source": [
    "from datetime import timedelta\n",
    "\n",
    "import numpy as np\n",
    "from matplotlib import pyplot as plt\n",
    "\n",
    "variables[\"xGEO\"].truncate(variables[\"Epoch\"], start_time, start_time + timedelta(hours=3))\n",
    "variables[\"FEDU\"].truncate(variables[\"Epoch\"], start_time, start_time + timedelta(hours=3))\n",
    "variables[\"Epoch\"].truncate(variables[\"Epoch\"], start_time, start_time + timedelta(hours=3))\n",
    "\n",
    "plt.plot(\n",
    "    variables[\"Epoch\"].get_data(ep.units.posixtime),\n",
    "    np.log10(variables[\"FEDU\"].get_data()[:, 5, 10]),\n",
    "    label=\"Before binning\",\n",
    ")\n",
    "\n",
    "time_bin_methods = {\n",
    "    \"xGEO\": ep.TimeBinMethod.NanMean,\n",
    "    \"FEDU\": ep.TimeBinMethod.NanMedian,\n",
    "}\n",
    "\n",
    "binned_time_variable = ep.processing.bin_by_time(\n",
    "    variables[\"Epoch\"],\n",
    "    variables=variables,\n",
    "    time_bin_method_dict=time_bin_methods,\n",
    "    time_binning_cadence=timedelta(minutes=5),\n",
    ")\n",
    "\n",
    "plt.plot(\n",
    "    binned_time_variable.get_data(ep.units.posixtime),\n",
    "    np.log10(variables[\"FEDU\"].get_data()[:, 5, 10]),\n",
    "    label=\"After binning\",\n",
    ")\n",
    "plt.legend()\n",
    "plt.ylabel(\"log10 Flux\")"
   ]
  }
 ],
 "metadata": {
  "kernelspec": {
   "display_name": "venv",
   "language": "python",
   "name": "python3"
  },
  "language_info": {
   "codemirror_mode": {
    "name": "ipython",
    "version": 3
   },
   "file_extension": ".py",
   "mimetype": "text/x-python",
   "name": "python",
   "nbconvert_exporter": "python",
   "pygments_lexer": "ipython3",
   "version": "3.11.2"
  }
 },
 "nbformat": 4,
 "nbformat_minor": 5
}
