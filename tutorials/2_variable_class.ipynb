{
 "cells": [
  {
   "cell_type": "markdown",
   "id": "5d3663eb",
   "metadata": {},
   "source": [
    "# Tutorial: Variable class\n",
    "\n",
    "This tutorial will teach you how to use the *Variable* class and what it can be used for.\n",
    "\n",
    "## Variables from the csv file\n",
    "\n",
    "We will use the loaded variables from the example_orbit.csv file to showcase how to deal with time and space variables."
   ]
  },
  {
   "cell_type": "code",
   "execution_count": null,
   "id": "941c7d1f",
   "metadata": {},
   "outputs": [],
   "source": [
    "from datetime import datetime, timezone\n",
    "\n",
    "from astropy import units as u\n",
    "\n",
    "import el_paso as ep\n",
    "\n",
    "start_time = datetime(2019, 7, 30, 17, tzinfo=timezone.utc)\n",
    "end_time = datetime(2019, 8, 3, 5, tzinfo=timezone.utc)\n",
    "\n",
    "extraction_infos = [\n",
    "    ep.ExtractionInfo(\n",
    "        result_key=\"Epoch\",\n",
    "        name_or_column=\"DATETIME\",\n",
    "        unit=u.dimensionless_unscaled,\n",
    "    ),\n",
    "    ep.ExtractionInfo(\n",
    "        result_key=\"alt\",\n",
    "        name_or_column=\"alt(km)\",\n",
    "        unit=u.km,\n",
    "    ),\n",
    "    ep.ExtractionInfo(\n",
    "        result_key=\"lon\",\n",
    "        name_or_column=\"lon(deg)\",\n",
    "        unit=u.km,\n",
    "    ),\n",
    "    ep.ExtractionInfo(\n",
    "        result_key=\"lat\",\n",
    "        name_or_column=\"lat(deg)\",\n",
    "        unit=u.km,\n",
    "    ),\n",
    "]\n",
    "\n",
    "variables = ep.extract_variables_from_files(\n",
    "    start_time,\n",
    "    end_time,\n",
    "    \"single_file\",\n",
    "    data_path=\".\",\n",
    "    file_name_stem=\"example_orbit.csv\",\n",
    "    extraction_infos=extraction_infos,\n",
    ")\n",
    "variables"
   ]
  },
  {
   "cell_type": "markdown",
   "id": "6dd06364",
   "metadata": {},
   "source": [
    "Let's look at the Epoch-variable first. At the end, we want to have the time variable with the unit of posixtime (also often called timestamp, basically seconds since Epoch).\n",
    "In this case, the Epoch-variable holds strings, so the first step is to convert them into datetimes. There is a designated function for this available: "
   ]
  },
  {
   "cell_type": "code",
   "execution_count": null,
   "id": "5ba56b19",
   "metadata": {},
   "outputs": [],
   "source": [
    "datetimes = ep.processing.convert_string_to_datetime(variables[\"Epoch\"])"
   ]
  },
  {
   "cell_type": "markdown",
   "id": "33b6a53e",
   "metadata": {},
   "source": [
    "Next, we can convert the datetimes into timestamps and store the data into the Epoch-variable. The data of a variable should always be changed by using the set_data function. This also allows you to specify a new unit (ep.units.posixtime in this case). If the unit should not change, you can set the second parameter to \"same\". "
   ]
  },
  {
   "cell_type": "code",
   "execution_count": null,
   "id": "fdef5a25",
   "metadata": {},
   "outputs": [],
   "source": [
    "import numpy as np\n",
    "\n",
    "posix_times = [t.timestamp() for t in datetimes]\n",
    "variables[\"Epoch\"].set_data(np.asarray(posix_times), ep.units.posixtime)"
   ]
  },
  {
   "cell_type": "markdown",
   "id": "ccc2265f",
   "metadata": {},
   "source": [
    "Next, we transform the GDZ coordinates to GEO, which is the standard coordinate system used in *EL-PASO*. For this, we create a new variable. Here we use the function get_data(), which should be used to retrieve the data from a variable.  "
   ]
  },
  {
   "cell_type": "code",
   "execution_count": null,
   "id": "a762b8f5",
   "metadata": {},
   "outputs": [],
   "source": [
    "from el_paso.processing.magnetic_field_utils.irbem import Coords\n",
    "\n",
    "irbem_lib_path = \"../IRBEM/libirbem.so\"\n",
    "\n",
    "xGDZ_arr = np.stack((variables[\"alt\"].get_data(), variables[\"lat\"].get_data(), variables[\"lon\"].get_data())).T\n",
    "\n",
    "model_coord = Coords(path=irbem_lib_path)\n",
    "\n",
    "# convert time_array to datenums for transform function\n",
    "xGEO_var = ep.Variable(\n",
    "    original_unit=ep.units.RE,\n",
    "    data=model_coord.transform(datetimes, xGDZ_arr, ep.IRBEM_SYSAXIS_GDZ, ep.IRBEM_SYSAXIS_GEO),\n",
    ")"
   ]
  },
  {
   "cell_type": "markdown",
   "id": "0ca82274",
   "metadata": {},
   "source": [
    "## Variables from the cdf file"
   ]
  },
  {
   "cell_type": "code",
   "execution_count": null,
   "id": "929bab50",
   "metadata": {},
   "outputs": [],
   "source": [
    "extraction_infos = [\n",
    "    ep.ExtractionInfo(\n",
    "        result_key=\"Epoch\",\n",
    "        name_or_column=\"Epoch_Ele\",\n",
    "        unit=ep.units.cdf_epoch,\n",
    "    ),\n",
    "    ep.ExtractionInfo(\n",
    "        result_key=\"Energy_FEDU\",\n",
    "        name_or_column=\"HOPE_ENERGY_Ele\",\n",
    "        unit=u.eV,\n",
    "    ),\n",
    "    ep.ExtractionInfo(\n",
    "        # result_key=\"FEDU\", we do not have to provide a result_key if we do not want to change the name\n",
    "        name_or_column=\"FEDU\",\n",
    "        unit=(u.cm**2 * u.s * u.sr * u.keV) ** (-1),\n",
    "    ),\n",
    "]\n",
    "\n",
    "start_time = datetime(2017, 7, 30, tzinfo=timezone.utc)\n",
    "end_time = datetime(2017, 8, 1, 23, 59, 59, tzinfo=timezone.utc)\n",
    "\n",
    "file_name_stem = \"rbspa_rel04_ect-hope-pa-l3_YYYYMMDD_.{6}.cdf\"\n",
    "\n",
    "ep.download(\n",
    "    start_time,\n",
    "    end_time,\n",
    "    save_path=\".\",\n",
    "    download_url=\"https://spdf.gsfc.nasa.gov/pub/data/rbsp/rbspa/l3/ect/hope/pitchangle/rel04/YYYY/\",\n",
    "    file_name_stem=file_name_stem,\n",
    "    file_cadence=\"daily\",\n",
    "    method=\"request\",\n",
    "    skip_existing=True,\n",
    ")\n",
    "\n",
    "variables = ep.extract_variables_from_files(\n",
    "    start_time, end_time, \"daily\", data_path=\".\", file_name_stem=file_name_stem, extraction_infos=extraction_infos\n",
    ")"
   ]
  },
  {
   "cell_type": "markdown",
   "id": "a7dc76eb",
   "metadata": {},
   "source": [
    "Handling the epoch variable is sometimes troublesome, as different formats are used. Usually, in cdf files, epoch is stored in the format *tt2000* or *cdf_epoch*, which counts the milliseconds since epoch. To make the conversion between tt2000 and posixtime easier, tt2000 is also defined as a custom el_paso unit. The conversion from one astropy unit to another on is handled by the *convert_to_unit* method.\n",
    "\n",
    "If needed, you can get datetimes from the posixtimes afterwards."
   ]
  },
  {
   "cell_type": "code",
   "execution_count": null,
   "id": "fb2b1708",
   "metadata": {},
   "outputs": [],
   "source": [
    "variables[\"Epoch\"].convert_to_unit(ep.units.posixtime)\n",
    "print([datetime.fromtimestamp(timestamp, timezone.utc) for timestamp in variables[\"Epoch\"].get_data()])"
   ]
  },
  {
   "cell_type": "markdown",
   "id": "82ed3132",
   "metadata": {},
   "source": [
    "Retrieving data of Variables is realized through the *get_data()* method. It is optional to specify the unit, which should be used for the returned data. "
   ]
  },
  {
   "cell_type": "code",
   "execution_count": null,
   "id": "25916994",
   "metadata": {},
   "outputs": [],
   "source": [
    "print(\"Energies in eV:\", variables[\"Energy_FEDU\"].get_data()[0, 0:10])\n",
    "print(\"Energies in MeV using get_data:\", variables[\"Energy_FEDU\"].get_data(\"MeV\")[0, 0:10])\n",
    "\n",
    "variables[\"Energy_FEDU\"].convert_to_unit(\"MeV\")\n",
    "print(\"Energies in MeV after converting:\", variables[\"Energy_FEDU\"].get_data()[0, 0:10])"
   ]
  },
  {
   "cell_type": "markdown",
   "id": "6ef58f07",
   "metadata": {},
   "source": [
    "To change the data of a variable, the *set_data()* method should be used. To keep the units in mind, you always have to specify the new units of the variable. If you are sure, that the units did not change, you can set the new unit to \"same\". "
   ]
  },
  {
   "cell_type": "code",
   "execution_count": null,
   "id": "1ec55e23",
   "metadata": {},
   "outputs": [],
   "source": [
    "old_data = variables[\"Energy_FEDU\"].get_data().astype(np.float64)\n",
    "\n",
    "# just multiply by 2 without changing units\n",
    "variables[\"Energy_FEDU\"].set_data(old_data * 2, \"same\")\n",
    "print(variables[\"Energy_FEDU\"].get_data()[0, 0:10])\n",
    "\n",
    "# doing the conversion to keV manually\n",
    "variables[\"Energy_FEDU\"].set_data(old_data * 1e3, u.keV)\n",
    "print(variables[\"Energy_FEDU\"].get_data()[0, 0:10])"
   ]
  }
 ],
 "metadata": {
  "kernelspec": {
   "display_name": "venv",
   "language": "python",
   "name": "python3"
  },
  "language_info": {
   "codemirror_mode": {
    "name": "ipython",
    "version": 3
   },
   "file_extension": ".py",
   "mimetype": "text/x-python",
   "name": "python",
   "nbconvert_exporter": "python",
   "pygments_lexer": "ipython3",
   "version": "3.11.2"
  }
 },
 "nbformat": 4,
 "nbformat_minor": 5
}
