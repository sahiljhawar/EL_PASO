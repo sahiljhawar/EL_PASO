{
 "cells": [
  {
   "cell_type": "markdown",
   "id": "301faef9",
   "metadata": {},
   "source": [
    "# Tutorial: Loading data\n",
    "\n",
    "This notebook will teach you how to load data in the *EL-PASO* framework. You will load data from a csv file on disk, as well as download a cdf file from an online repository and load data from it. \n",
    "\n",
    "## Loading from a csv file\n",
    "\n",
    "As a first step, we will load data from example_orbit.csv, which looks like this:"
   ]
  },
  {
   "cell_type": "code",
   "execution_count": null,
   "id": "ce5e0be4",
   "metadata": {},
   "outputs": [],
   "source": [
    "import pandas as pd\n",
    "\n",
    "pd.read_csv(\"example_orbit.csv\").head()"
   ]
  },
  {
   "cell_type": "markdown",
   "id": "7e86fd9d",
   "metadata": {},
   "source": [
    "The data holds four columns describing the orbit of a satellite through time, altitude, latitude, and logitude. While we can certainly read in the data using pandas as above, we want to use the EL-PASO SourceFile class, which extracts the necessary data and puts it into variables. For this, we need to tell EL-PASO how to read the file by creating a list of ExtractionInfos. Each ExtractionInfo is used to create one variable based on data from the file and the given unit. The result_key parameter is used later on to identify the variable after loading."
   ]
  },
  {
   "cell_type": "code",
   "execution_count": null,
   "id": "45d8ede0",
   "metadata": {},
   "outputs": [],
   "source": [
    "from datetime import datetime, timezone\n",
    "\n",
    "from astropy import units as u\n",
    "\n",
    "import el_paso as ep\n",
    "\n",
    "start_time = datetime(2019, 7, 30, 17, tzinfo=timezone.utc)\n",
    "end_time = datetime(2019, 8, 3, 5, tzinfo=timezone.utc)\n",
    "\n",
    "extraction_infos = [\n",
    "    ep.ExtractionInfo(\n",
    "        result_key=\"Epoch\",\n",
    "        name_or_column=\"DATETIME\",\n",
    "        unit=u.dimensionless_unscaled,\n",
    "    ),\n",
    "    ep.ExtractionInfo(\n",
    "        result_key=\"alt\",\n",
    "        name_or_column=\"alt(km)\",\n",
    "        unit=u.km,\n",
    "    ),\n",
    "    ep.ExtractionInfo(\n",
    "        result_key=\"lon\",\n",
    "        name_or_column=\"lon(deg)\",\n",
    "        unit=u.km,\n",
    "    ),\n",
    "    ep.ExtractionInfo(\n",
    "        result_key=\"lat\",\n",
    "        name_or_column=\"lat(deg)\",\n",
    "        unit=u.km,\n",
    "    ),\n",
    "]"
   ]
  },
  {
   "cell_type": "markdown",
   "id": "771a3ead",
   "metadata": {},
   "source": [
    "Now we are ready to extract the data and put it into the variables. The extract_variables function return a dictionary holding Variables based on the extraction_infos."
   ]
  },
  {
   "cell_type": "code",
   "execution_count": null,
   "id": "daadc3cd",
   "metadata": {},
   "outputs": [],
   "source": [
    "variables = ep.extract_variables_from_files(\n",
    "    start_time,\n",
    "    end_time,\n",
    "    \"single_file\",\n",
    "    data_path=\".\",\n",
    "    file_name_stem=\"example_orbit.csv\",\n",
    "    extraction_infos=extraction_infos,\n",
    ")\n",
    "\n",
    "print(variables.keys())\n",
    "print(variables[\"Epoch\"].metadata)\n",
    "print(variables[\"Epoch\"].get_data())"
   ]
  },
  {
   "cell_type": "markdown",
   "id": "34746d3d",
   "metadata": {},
   "source": [
    "## Download and load a cdf file\n",
    "\n",
    "This example will show you how to inspect a CDF file and how to extract variables from it using a *SourceFile*.\n",
    "\n",
    "First thing you want to do is knowing what are the contents of the CDF file. For this, a script is provided by EL-PASO, which prints a table with all relevant information:"
   ]
  },
  {
   "cell_type": "code",
   "execution_count": null,
   "id": "1fa02360",
   "metadata": {},
   "outputs": [],
   "source": [
    "import sys\n",
    "\n",
    "sys.path.append(\"../\")\n",
    "\n",
    "from scripts.inspect_cdf_file import inspect_cdf_file\n",
    "\n",
    "inspect_cdf_file(\"rbspa_rel04_ect-hope-pa-l3_20170708_v7.4.0.cdf\")"
   ]
  },
  {
   "cell_type": "markdown",
   "id": "03466457",
   "metadata": {},
   "source": [
    "The next step is to think which variables you want to use for the processing and translating them to EL-PASO ExtractionInfos."
   ]
  },
  {
   "cell_type": "code",
   "execution_count": null,
   "id": "bcc0b57c",
   "metadata": {},
   "outputs": [],
   "source": [
    "from astropy import units as u\n",
    "\n",
    "import el_paso as ep\n",
    "\n",
    "extraction_infos = [\n",
    "    ep.ExtractionInfo(\n",
    "        result_key=\"Epoch\",\n",
    "        name_or_column=\"Epoch_Ele\",\n",
    "        unit=u.tt2000,\n",
    "    ),\n",
    "    ep.ExtractionInfo(\n",
    "        result_key=\"Energy_FEDU\",\n",
    "        name_or_column=\"HOPE_ENERGY_Ele\",\n",
    "        unit=u.eV,\n",
    "    ),\n",
    "    ep.ExtractionInfo(\n",
    "        result_key=\"FEDU\",\n",
    "        name_or_column=\"FEDU\",\n",
    "        unit=(u.cm**2 * u.s * u.sr * u.keV) ** (-1),\n",
    "    ),\n",
    "]"
   ]
  },
  {
   "cell_type": "markdown",
   "id": "d1f5e4ce",
   "metadata": {},
   "source": [
    "In this example, we want to download the data from the server as this is how it is done for most data sets. The file_name_stem contains a pattern (YYYYMMDD) to describe the date of the file. While loading the data, this pattern will be replaced by the correct date. A similar pattern is used for the download url. The file_name_stem also contains the regex expression '.{6}', which is used to find files with different versions. The most up-to-date version will always be downloaded. "
   ]
  },
  {
   "cell_type": "code",
   "execution_count": null,
   "id": "5c99faa0",
   "metadata": {},
   "outputs": [],
   "source": [
    "from datetime import datetime, timezone\n",
    "\n",
    "start_time = datetime(2017, 7, 8, tzinfo=timezone.utc)\n",
    "end_time = datetime(2017, 7, 9, 23, 59, 59, tzinfo=timezone.utc)\n",
    "\n",
    "file_name_stem = \"rbspa_rel04_ect-hope-pa-l3_YYYYMMDD_.{6}.cdf\"\n",
    "\n",
    "ep.download(\n",
    "    start_time,\n",
    "    end_time,\n",
    "    save_path=\".\",\n",
    "    download_url=\"https://spdf.gsfc.nasa.gov/pub/data/rbsp/rbspa/l3/ect/hope/pitchangle/rel04/YYYY/\",\n",
    "    file_name_stem=file_name_stem,\n",
    "    file_cadence=\"daily\",\n",
    "    method=\"request\",\n",
    "    skip_existing=True,\n",
    ")\n",
    "\n",
    "variables = ep.extract_variables_from_files(\n",
    "    start_time, end_time, \"daily\", data_path=\".\", file_name_stem=file_name_stem, extraction_infos=extraction_infos\n",
    ")\n",
    "variables"
   ]
  }
 ],
 "metadata": {
  "kernelspec": {
   "display_name": "venv",
   "language": "python",
   "name": "python3"
  },
  "language_info": {
   "codemirror_mode": {
    "name": "ipython",
    "version": 3
   },
   "file_extension": ".py",
   "mimetype": "text/x-python",
   "name": "python",
   "nbconvert_exporter": "python",
   "pygments_lexer": "ipython3",
   "version": "3.11.13"
  }
 },
 "nbformat": 4,
 "nbformat_minor": 5
}
