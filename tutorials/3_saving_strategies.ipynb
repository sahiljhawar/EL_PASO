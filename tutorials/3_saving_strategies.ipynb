{
 "cells": [
  {
   "cell_type": "markdown",
   "id": "5d3663eb",
   "metadata": {},
   "source": [
    "# Tutorial: Saving strategies\n",
    "\n",
    "This tutorial will teach you how to save your processed variables using different *SavingStrategies*.\n",
    "\n",
    "We will use the loaded variables from the cdf file to showcase how to save them with different formats. We will add additional variables so that we have more to save."
   ]
  },
  {
   "cell_type": "code",
   "execution_count": null,
   "id": "929bab50",
   "metadata": {},
   "outputs": [],
   "source": [
    "import logging\n",
    "import sys\n",
    "from datetime import datetime, timezone\n",
    "\n",
    "from astropy import units as u\n",
    "\n",
    "import el_paso as ep\n",
    "\n",
    "logging.basicConfig(stream=sys.stdout, level=logging.DEBUG)\n",
    "\n",
    "extraction_infos = [\n",
    "    ep.ExtractionInfo(\n",
    "        result_key=\"Epoch\",\n",
    "        name_or_column=\"Epoch_Ele\",\n",
    "        unit=ep.units.cdf_epoch,\n",
    "    ),\n",
    "    ep.ExtractionInfo(\n",
    "        result_key=\"FEDU\",\n",
    "        name_or_column=\"FEDU\",\n",
    "        unit=(u.cm**2 * u.s * u.sr * u.keV) ** (-1),\n",
    "    ),\n",
    "    ep.ExtractionInfo(\n",
    "        result_key=\"xGEO\",\n",
    "        name_or_column=\"Position_Ele\",\n",
    "        unit=u.km,\n",
    "    ),\n",
    "]\n",
    "\n",
    "start_time = datetime(2017, 7, 30, tzinfo=timezone.utc)\n",
    "end_time = datetime(2017, 8, 1, 23, 59, 59, tzinfo=timezone.utc)\n",
    "\n",
    "file_name_stem = \"rbspa_rel04_ect-hope-pa-l3_YYYYMMDD_.{6}.cdf\"\n",
    "\n",
    "ep.download(\n",
    "    start_time,\n",
    "    end_time,\n",
    "    save_path=\".\",\n",
    "    download_url=\"https://spdf.gsfc.nasa.gov/pub/data/rbsp/rbspa/l3/ect/hope/pitchangle/rel04/YYYY/\",\n",
    "    file_name_stem=file_name_stem,\n",
    "    file_cadence=\"daily\",\n",
    "    method=\"request\",\n",
    "    skip_existing=True,\n",
    ")\n",
    "\n",
    "variables = ep.extract_variables_from_files(\n",
    "    start_time, end_time, \"daily\", data_path=\".\", file_name_stem=file_name_stem, extraction_infos=extraction_infos\n",
    ")\n",
    "variables"
   ]
  },
  {
   "cell_type": "markdown",
   "id": "e88168f0",
   "metadata": {},
   "source": [
    "## Single file strategy\n",
    "\n",
    "First, we want to save the variables using the *SingleFileStrategy*. This is the simplest way to save variables, as everything is simple put into one file. Dependent on the file ending, different file formats will be saved. Possible formats are \".mat\", \".pickle\", and \".h5\".\n",
    "\n",
    "The units of the variables are not changed when using the SingleFileStrategy. "
   ]
  },
  {
   "cell_type": "code",
   "execution_count": null,
   "id": "0bb2c248",
   "metadata": {},
   "outputs": [],
   "source": [
    "saving_strategy = ep.saving_strategies.SingleFileStrategy(\"rbsp_hope_example.pickle\")\n",
    "ep.save(\n",
    "    variables, saving_strategy=saving_strategy, start_time=start_time, end_time=end_time, time_var=variables[\"Epoch\"]\n",
    ")"
   ]
  },
  {
   "cell_type": "markdown",
   "id": "0b9e196b",
   "metadata": {},
   "source": [
    "Let's inspect what got saved. The variables are turned into simple numpy arrays before saving. You can see that also a *metadata* variable has been saved. We will look closer at metadata in a different tutorial."
   ]
  },
  {
   "cell_type": "code",
   "execution_count": null,
   "id": "7bf29a28",
   "metadata": {},
   "outputs": [],
   "source": [
    "import pickle\n",
    "\n",
    "with open(\"rbsp_hope_example.pickle\", \"rb\") as f:\n",
    "    loaded_data = pickle.load(f)\n",
    "    print(\"Keys: \", loaded_data.keys())\n",
    "    print(\"Metadata: \", loaded_data[\"metadata\"])\n",
    "    print(\"xGEO[0,:]: \", loaded_data[\"xGEO\"][0, :] * u.Unit(loaded_data[\"metadata\"][\"xGEO\"][\"unit\"]))"
   ]
  },
  {
   "cell_type": "markdown",
   "id": "5adb3513",
   "metadata": {},
   "source": [
    "## Data-org strategy\n",
    "\n",
    "All data at GFZ is stored under a standard, which we call DataOrg (Data Organization). The standard inlcudes monthly files, where variables are split into separate files to reduce loading times. All files are saved as .mat files. By using the *DataOrgStrategy*, the variables are automatically sorted into the corresponding files, based on the key of the variable_dict. Additionally, the variables are converted into the units as described in the standard.\n",
    "\n",
    "For using it, we have to store the variables in a dictionary with certain keys, as specified by the standard. "
   ]
  },
  {
   "cell_type": "code",
   "execution_count": null,
   "id": "fb2b1708",
   "metadata": {},
   "outputs": [],
   "source": [
    "variables_to_save = {\n",
    "    \"time\": variables[\"Epoch\"],\n",
    "    \"Flux\": variables[\"FEDU\"],\n",
    "    \"xGEO\": variables[\"xGEO\"],\n",
    "}\n",
    "\n",
    "saving_strategy = ep.saving_strategies.DataOrgStrategy(\n",
    "    \".\", mission=\"RBSP\", satellite=\"rbspa\", instrument=\"hope\", kext=\"T89\"\n",
    ")\n",
    "ep.save(variables_to_save, saving_strategy, start_time, end_time, time_var=variables[\"Epoch\"])"
   ]
  },
  {
   "cell_type": "markdown",
   "id": "da869bc2",
   "metadata": {},
   "source": [
    "Let's inspect again, what has been saved. Flux-files and xGEO-files got saved. Note how the metadata struct is again saved and that the units of xGEO got automatically transformed from km to R_E. "
   ]
  },
  {
   "cell_type": "code",
   "execution_count": null,
   "id": "697bfeaa",
   "metadata": {},
   "outputs": [],
   "source": [
    "from pathlib import Path\n",
    "from scipy.io import loadmat\n",
    "\n",
    "saved_files = sorted(Path(\"RBSP/rbspa/Processed_Mat_Files\").glob(\"*.mat\"))\n",
    "print(\"Number of saved files:\", len(saved_files))\n",
    "print(\"Saved files:\", saved_files)\n",
    "\n",
    "xGEO_data = loadmat(saved_files[1], simplify_cells=True)\n",
    "\n",
    "print(\"xGEO data keys:\", xGEO_data.keys())\n",
    "print(\"xGEO data metadata:\", xGEO_data[\"metadata\"][\"xGEO\"].keys())\n",
    "print(\"xGEO[0,:]:\", xGEO_data[\"xGEO\"][0, :] * u.Unit(xGEO_data[\"metadata\"][\"xGEO\"][\"unit\"]))"
   ]
  }
 ],
 "metadata": {
  "kernelspec": {
   "display_name": "venv",
   "language": "python",
   "name": "python3"
  },
  "language_info": {
   "codemirror_mode": {
    "name": "ipython",
    "version": 3
   },
   "file_extension": ".py",
   "mimetype": "text/x-python",
   "name": "python",
   "nbconvert_exporter": "python",
   "pygments_lexer": "ipython3",
   "version": "3.11.2"
  }
 },
 "nbformat": 4,
 "nbformat_minor": 5
}
